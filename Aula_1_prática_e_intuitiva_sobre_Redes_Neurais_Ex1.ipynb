{
  "nbformat": 4,
  "nbformat_minor": 0,
  "metadata": {
    "colab": {
      "provenance": [],
      "toc_visible": true
    },
    "kernelspec": {
      "name": "python3",
      "display_name": "Python 3"
    },
    "language_info": {
      "name": "python"
    }
  },
  "cells": [
    {
      "cell_type": "markdown",
      "source": [
        "Um exemplo simples em Python que demonstra como um único neurônio pode aprender. O código vai incluir:\n",
        "\n",
        "1. Um dataset fictício.\n",
        "\n",
        "2. A possibilidade de escolher entre diferentes funções de ativação (Sigmóide, ReLU e Tangente Hiperbólica).\n",
        "\n",
        "3. Um loop de treinamento onde o neurônio ajusta seus pesos para minimizar o erro."
      ],
      "metadata": {
        "id": "Qa8PGyuUS4RE"
      }
    },
    {
      "cell_type": "code",
      "execution_count": 3,
      "metadata": {
        "id": "HzYNs_YNSpOn",
        "colab": {
          "base_uri": "https://localhost:8080/"
        },
        "outputId": "7c691e1e-41c5-45b5-8197-8fa28f7f1a07"
      },
      "outputs": [
        {
          "output_type": "stream",
          "name": "stdout",
          "text": [
            "Época 0, Erro: 0.34306601938590897\n",
            "Época 5000, Erro: 0.17533678072799183\n",
            "Época 10000, Erro: 0.19909449499198476\n",
            "Época 15000, Erro: 0.284129668719674\n",
            "Época 20000, Erro: 9.010435828529513e-05\n",
            "Época 25000, Erro: 1.4602372730988354e-06\n",
            "Época 30000, Erro: 4.85734381094262e-07\n",
            "Época 35000, Erro: 2.7593696085164923e-07\n",
            "Época 40000, Erro: 2.1074302467628532e-07\n",
            "Época 45000, Erro: 1.9206954546333252e-07\n"
          ]
        }
      ],
      "source": [
        "#################################################\n",
        "# Desenvolvido por Arthur Lima e Renan Gomes\n",
        "#################################################\n",
        "\n",
        "import numpy as np\n",
        "import matplotlib.pyplot as plt\n",
        "\n",
        "# Funções de ativação\n",
        "def sigmoid(x):\n",
        "    return 1 / (1 + np.exp(-x))\n",
        "\n",
        "def relu(x):\n",
        "    return np.maximum(0, x)\n",
        "\n",
        "def tanh(x):\n",
        "    return np.tanh(x)\n",
        "\n",
        "# Derivadas das funções de ativação (para o gradiente)\n",
        "def sigmoid_derivative(x):\n",
        "    return sigmoid(x) * (1 - sigmoid(x))\n",
        "\n",
        "def relu_derivative(x):\n",
        "    return np.where(x > 0, 1, 0)\n",
        "\n",
        "def tanh_derivative(x):\n",
        "    return 1 - np.tanh(x)**2\n",
        "\n",
        "# Definimos o tamanho do nosso novo dataset\n",
        "num_samples = 50\n",
        "\n",
        "# Dataset customizado (Problema da paridade)\n",
        "X = np.random.randint(0, 2, size=(num_samples, 3))\n",
        "\n",
        "# Calculamos a saida de paridade (o resultado é 1 se houver um número ímpar de 1s)\n",
        "# A maneira mais facil de fazer isso é com o operador XOR (^)\n",
        "y = np.logical_xor(X[:, 0], np.logical_xor(X[:, 1], X[:, 2])).reshape(-1, 1)\n",
        "# Convertendo booleano para inteiro (0 ou 1)\n",
        "y = y.astype(int)\n",
        "\n",
        "\n",
        "# Parametros\n",
        "learning_rate = 0.1\n",
        "epochs = 50000\n",
        "\n",
        "# Arquitetura da rede\n",
        "input_neurons = 3  # Entradas: X1, X2, X3\n",
        "hidden_neurons = 4 # Neuronios camada oculta\n",
        "output_neurons = 1 # Saida: 0 ou 1\n",
        "\n",
        "# Inicialização de Pesos\n",
        "np.random.seed(42)\n",
        "\n",
        "# Pesos entre a camada de entrada e a camada oculta: (3x4)\n",
        "weights_hidden = np.random.uniform(size=(input_neurons, hidden_neurons))\n",
        "bias_hidden = np.random.uniform(size=(1, hidden_neurons))\n",
        "\n",
        "# Pesos entre a camada oculta e a camada de saída: (4x1)\n",
        "weights_output = np.random.uniform(size=(hidden_neurons, output_neurons))\n",
        "bias_output = np.random.uniform(size=(1, output_neurons))\n",
        "\n",
        "# Escolha da função de ativação\n",
        "activation_function = sigmoid\n",
        "activation_derivative = sigmoid_derivative\n",
        "\n",
        "errors = []\n",
        "for epoch in range(epochs):\n",
        "    # Forward Pass\n",
        "    # Output da camada oculta\n",
        "    hidden_layer_input = np.dot(X, weights_hidden) + bias_hidden # output -> (50X4)\n",
        "    hidden_layer_output = activation_function(hidden_layer_input) # output -> (50X4)\n",
        "\n",
        "    # Output final da rede\n",
        "    output_layer_input = np.dot(hidden_layer_output, weights_output) + bias_output # -> (50x1)\n",
        "    predicted_output = activation_function(output_layer_input) # -> (50x1)\n",
        "\n",
        "    # Cálculo do Erro\n",
        "    error = y - predicted_output # -> (50x1)\n",
        "    errors.append(np.mean(np.square(error)))\n",
        "\n",
        "    # Backpropagation\n",
        "    # Gradiente da camada de saida (previsao)\n",
        "    d_predicted_output = error * activation_derivative(predicted_output) # -> (50x1)\n",
        "\n",
        "    # Erro da camada oculta (propaga o erro para trás)\n",
        "    error_hidden_layer = d_predicted_output.dot(weights_output.T) # -> (50X4)\n",
        "    d_hidden_layer = error_hidden_layer * activation_derivative(hidden_layer_output)\n",
        "\n",
        "    # Update weights\n",
        "    # Camada de saida\n",
        "    weights_output += hidden_layer_output.T.dot(d_predicted_output) * learning_rate # (4x1)\n",
        "    bias_output += np.sum(d_predicted_output, axis=0, keepdims=True) * learning_rate # (1x1)\n",
        "\n",
        "    # Camada oculta\n",
        "    weights_hidden += X.T.dot(d_hidden_layer) * learning_rate # (3x4)\n",
        "    bias_hidden += np.sum(d_hidden_layer, axis=0, keepdims=True) * learning_rate # (1x4)\n",
        "\n",
        "    if epoch % 5000 == 0:\n",
        "        print(f\"Época {epoch}, Erro: {errors[-1]}\")\n"
      ]
    },
    {
      "cell_type": "code",
      "source": [
        "# Plot do erro ao longo do treinamento\n",
        "plt.plot(range(epochs), errors)\n",
        "plt.title(\"Erro ao longo do treinamento\")\n",
        "plt.xlabel(\"Época\")\n",
        "plt.ylabel(\"Erro\")\n",
        "plt.show()\n",
        "\n",
        "\n",
        "# Teste da Rede Treinada\n",
        "print(\"\\nTestando a rede com todas as 8 combinações possíveis\")\n",
        "\n",
        "test_data = np.array([\n",
        "    [0, 0, 0],\n",
        "    [0, 0, 1],\n",
        "    [0, 1, 0],\n",
        "    [0, 1, 1],\n",
        "    [1, 0, 0],\n",
        "    [1, 0, 1],\n",
        "    [1, 1, 0],\n",
        "    [1, 1, 1]\n",
        "])\n",
        "# SaIda esperada (paridade/XOR)\n",
        "expected_output = np.array([0, 1, 1, 0, 1, 0, 0, 1])\n",
        "\n",
        "for i, test_input in enumerate(test_data):\n",
        "    # Executa o forward pass para o dado de teste\n",
        "    hidden_layer = sigmoid(np.dot(test_input, weights_hidden) + bias_hidden)\n",
        "    output = sigmoid(np.dot(hidden_layer, weights_output) + bias_output)\n",
        "\n",
        "    # Arredonda o resultado para obter a classe (0 ou 1)\n",
        "    predicted_class = 1 if output > 0.5 else 0\n",
        "\n",
        "    print(f\"Entrada: {test_input} -> Saída Esperada: {expected_output[i]} -> Saída da Rede: {output[0][0]:.4f} (Classe: {predicted_class})\")\n"
      ],
      "metadata": {
        "colab": {
          "base_uri": "https://localhost:8080/",
          "height": 658
        },
        "id": "c7X5a5NmTCyh",
        "outputId": "6850469c-c627-4e60-e018-55f196d77000"
      },
      "execution_count": 4,
      "outputs": [
        {
          "output_type": "display_data",
          "data": {
            "text/plain": [
              "<Figure size 640x480 with 1 Axes>"
            ],
            "image/png": "[encoded data removed]"
          },
          "metadata": {}
        },
        {
          "output_type": "stream",
          "name": "stdout",
          "text": [
            "\n",
            "Testando a rede com todas as 8 combinações possíveis\n",
            "Entrada: [0 0 0] -> Saída Esperada: 0 -> Saída da Rede: 0.0002 (Classe: 0)\n",
            "Entrada: [0 0 1] -> Saída Esperada: 1 -> Saída da Rede: 1.0000 (Classe: 1)\n",
            "Entrada: [0 1 0] -> Saída Esperada: 1 -> Saída da Rede: 0.9995 (Classe: 1)\n",
            "Entrada: [0 1 1] -> Saída Esperada: 0 -> Saída da Rede: 0.0000 (Classe: 0)\n",
            "Entrada: [1 0 0] -> Saída Esperada: 1 -> Saída da Rede: 0.9994 (Classe: 1)\n",
            "Entrada: [1 0 1] -> Saída Esperada: 0 -> Saída da Rede: 0.0000 (Classe: 0)\n",
            "Entrada: [1 1 0] -> Saída Esperada: 0 -> Saída da Rede: 0.0010 (Classe: 0)\n",
            "Entrada: [1 1 1] -> Saída Esperada: 1 -> Saída da Rede: 0.9997 (Classe: 1)\n"
          ]
        }
      ]
    }
  ]
}